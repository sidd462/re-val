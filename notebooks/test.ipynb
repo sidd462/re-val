{
 "cells": [
  {
   "cell_type": "code",
   "execution_count": 2,
   "metadata": {},
   "outputs": [],
   "source": [
    "import pandas as pd\n",
    "from sklearn.model_selection import train_test_split\n",
    "from sklearn.metrics import mean_absolute_error\n",
    "from sklearn.ensemble import ExtraTreesRegressor, RandomForestRegressor\n",
    "from sklearn.tree import DecisionTreeRegressor\n",
    "from sklearn.preprocessing import StandardScaler, OneHotEncoder\n",
    "from sklearn.compose import ColumnTransformer\n",
    "from sklearn.pipeline import Pipeline\n"
   ]
  },
  {
   "cell_type": "code",
   "execution_count": 3,
   "metadata": {},
   "outputs": [],
   "source": [
    "# Load the dataset\n",
    "data = pd.read_csv('cleaned_realtor_data_new.csv')\n",
    "\n",
    "# Splitting data into features and target\n",
    "X = data.drop(columns='price')\n",
    "y = data['price']\n",
    "\n",
    "# Splitting data into training and testing sets (80% train, 20% test)\n",
    "X_train, X_test, y_train, y_test = train_test_split(X, y, test_size=0.2, random_state=42)\n",
    "\n",
    "# Defining preprocessing steps\n",
    "numeric_features = ['bed', 'bath', 'acre_lot', 'house_size', 'zip_code']\n",
    "categorical_features = ['status', 'city', 'state']\n",
    "\n",
    "# Creating transformers\n",
    "numeric_transformer = StandardScaler()\n",
    "categorical_transformer = OneHotEncoder(handle_unknown='ignore')\n",
    "\n",
    "# Applying Column Transformer\n",
    "preprocessor = ColumnTransformer(\n",
    "    transformers=[\n",
    "        ('num', numeric_transformer, numeric_features),\n",
    "        ('cat', categorical_transformer, categorical_features)])\n",
    "\n",
    "# Initializing tree-based models\n",
    "models = {\n",
    "    \"Decision Tree\": DecisionTreeRegressor(random_state=42),\n",
    "    \"Random Forest\": RandomForestRegressor(n_estimators=50, random_state=42),\n",
    "    \"Extra Trees\": ExtraTreesRegressor(n_estimators=50, random_state=42)\n",
    "}\n",
    "\n",
    "mae_scores = {}\n"
   ]
  },
  {
   "cell_type": "code",
   "execution_count": 4,
   "metadata": {},
   "outputs": [
    {
     "name": "stdout",
     "output_type": "stream",
     "text": [
      "{'Decision Tree': 14569.822807319842, 'Random Forest': 16275.350517225403, 'Extra Trees': 14076.651027026672}\n"
     ]
    }
   ],
   "source": [
    "\n",
    "for name, model in models.items():\n",
    "    # Creating and evaluating the pipeline\n",
    "    pipeline = Pipeline(steps=[('preprocessor', preprocessor),\n",
    "                               ('model', model)])\n",
    "    pipeline.fit(X_train, y_train)\n",
    "    predictions = pipeline.predict(X_test)\n",
    "    mae_scores[name] = mean_absolute_error(y_test, predictions)\n",
    "print(mae_scores)\n"
   ]
  },
  {
   "cell_type": "code",
   "execution_count": 1,
   "metadata": {},
   "outputs": [
    {
     "ename": "ModuleNotFoundError",
     "evalue": "No module named 'tensorflow_decision_forests'",
     "output_type": "error",
     "traceback": [
      "\u001b[1;31m---------------------------------------------------------------------------\u001b[0m",
      "\u001b[1;31mModuleNotFoundError\u001b[0m                       Traceback (most recent call last)",
      "Cell \u001b[1;32mIn[1], line 3\u001b[0m\n\u001b[0;32m      1\u001b[0m \u001b[39mimport\u001b[39;00m \u001b[39mpandas\u001b[39;00m \u001b[39mas\u001b[39;00m \u001b[39mpd\u001b[39;00m\n\u001b[0;32m      2\u001b[0m \u001b[39mfrom\u001b[39;00m \u001b[39msklearn\u001b[39;00m\u001b[39m.\u001b[39;00m\u001b[39mmodel_selection\u001b[39;00m \u001b[39mimport\u001b[39;00m train_test_split\n\u001b[1;32m----> 3\u001b[0m \u001b[39mimport\u001b[39;00m \u001b[39mtensorflow_decision_forests\u001b[39;00m \u001b[39mas\u001b[39;00m \u001b[39mtfdf\u001b[39;00m\n\u001b[0;32m      5\u001b[0m \u001b[39mdef\u001b[39;00m \u001b[39mload_and_preprocess_data\u001b[39m(filepath):\n\u001b[0;32m      6\u001b[0m     \u001b[39m# Load the dataset\u001b[39;00m\n\u001b[0;32m      7\u001b[0m     data \u001b[39m=\u001b[39m pd\u001b[39m.\u001b[39mread_csv(filepath)\n",
      "\u001b[1;31mModuleNotFoundError\u001b[0m: No module named 'tensorflow_decision_forests'"
     ]
    }
   ],
   "source": [
    "import pandas as pd\n",
    "from sklearn.model_selection import train_test_split\n",
    "import tensorflow_decision_forests as tfdf\n",
    "\n",
    "def load_and_preprocess_data(filepath):\n",
    "    # Load the dataset\n",
    "    data = pd.read_csv(filepath)\n",
    "    \n",
    "    # Drop the 'city' and 'state' columns and keep only the 'zip_code'\n",
    "    data.drop(columns=['city', 'state'], inplace=True)\n",
    "    \n",
    "    # Convert the zip_code column to categorical\n",
    "    data['zip_code'] = data['zip_code'].astype('category')\n",
    "\n",
    "    # Split the dataset into training and testing sets\n",
    "    train_df, test_df = train_test_split(data, test_size=0.2, random_state=42)\n",
    "    return train_df, test_df\n",
    "\n",
    "def train_random_forest(train_df, test_df):\n",
    "    # Convert the Pandas dataframes into TensorFlow datasets\n",
    "    train_dataset = tfdf.keras.pd_dataframe_to_tf_dataset(train_df, task=tfdf.keras.Task.REGRESSION)\n",
    "    test_dataset = tfdf.keras.pd_dataframe_to_tf_dataset(test_df, task=tfdf.keras.Task.REGRESSION)\n",
    "    \n",
    "    # Create and train the random forest model\n",
    "    model = tfdf.keras.RandomForestModel(task=tfdf.keras.Task.REGRESSION)\n",
    "    model.fit(train_dataset)\n",
    "\n",
    "    # Evaluate the model\n",
    "    evaluation = model.evaluate(test_dataset)\n",
    "    print(f\"Mean Absolute Error: {evaluation[1]}\")\n",
    "    \n",
    "    # Return the trained model\n",
    "    return model\n",
    "\n",
    "if __name__ == \"__main__\":\n",
    "    filepath = \"cleaned_realtor_data_new.csv\"\n",
    "    train_df, test_df = load_and_preprocess_data(filepath)\n",
    "    model = train_random_forest(train_df, test_df)\n",
    "    \n",
    "    # Optionally: Plot the first tree of the forest (useful for visual inspection)\n",
    "    # tfdf.model_plotter.plot_model_in_colab(model, tree_idx=0, max_depth=3)\n"
   ]
  },
  {
   "cell_type": "code",
   "execution_count": null,
   "metadata": {},
   "outputs": [],
   "source": []
  }
 ],
 "metadata": {
  "kernelspec": {
   "display_name": "tf",
   "language": "python",
   "name": "python3"
  },
  "language_info": {
   "codemirror_mode": {
    "name": "ipython",
    "version": 3
   },
   "file_extension": ".py",
   "mimetype": "text/x-python",
   "name": "python",
   "nbconvert_exporter": "python",
   "pygments_lexer": "ipython3",
   "version": "3.10.12"
  },
  "orig_nbformat": 4
 },
 "nbformat": 4,
 "nbformat_minor": 2
}
